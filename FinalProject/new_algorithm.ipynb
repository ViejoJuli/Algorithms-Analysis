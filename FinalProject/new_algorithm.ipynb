{
  "nbformat": 4,
  "nbformat_minor": 0,
  "metadata": {
    "colab": {
      "name": "new_algorithm.ipynb",
      "provenance": [],
      "collapsed_sections": []
    },
    "kernelspec": {
      "name": "python3",
      "display_name": "Python 3"
    },
    "language_info": {
      "name": "python"
    }
  },
  "cells": [
    {
      "cell_type": "markdown",
      "source": [
        "###Algorithms Analysis - New Algorithm\n",
        "- Daniel Aguirre - 201711822 \n",
        "- Julián Ríos - 201517163\n",
        "- Ivan Salazar - 201629873\n",
        "\n",
        "Steps:\n",
        "1. Create Graph\n",
        "2. Review Hour Function to Paths Weight\n",
        "3. Dijkstra"
      ],
      "metadata": {
        "id": "F4DmqiXf2L83"
      }
    },
    {
      "cell_type": "markdown",
      "source": [
        "###1. Create Graph\n",
        "![Example Graph.JPG](data:image/jpeg;base64,/9j/4AAQSkZJRgABAQEAYABgAAD/4RDwRXhpZgAATU0AKgAAAAgABAE7AAIAAAAOAAAISodpAAQAAAABAAAIWJydAAEAAAAYAAAQ0OocAAcAAAgMAAAAPgAAAAAc6gAAAAgAAAAAAAAAAAAAAAAAAAAAAAAAAAAAAAAAAAAAAAAAAAAAAAAAAAAAAAAAAAAAAAAAAAAAAAAAAAAAAAAAAAAAAAAAAAAAAAAAAAAAAAAAAAAAAAAAAAAAAAAAAAAAAAAAAAAAAAAAAAAAAAAAAAAAAAAAAAAAAAAAAAAAAAAAAAAAAAAAAAAAAAAAAAAAAAAAAAAAAAAAAAAAAAAAAAAAAAAAAAAAAAAAAAAAAAAAAAAAAAAAAAAAAAAAAAAAAAAAAAAAAAAAAAAAAAAAAAAAAAAAAAAAAAAAAAAAAAAAAAAAAAAAAAAAAAAAAAAAAAAAAAAAAAAAAAAAAAAAAAAAAAAAAAAAAAAAAAAAAAAAAAAAAAAAAAAAAAAAAAAAAAAAAAAAAAAAAAAAAAAAAAAAAAAAAAAAAAAAAAAAAAAAAAAAAAAAAAAAAAAAAAAAAAAAAAAAAAAAAAAAAAAAAAAAAAAAAAAAAAAAAAAAAAAAAAAAAAAAAAAAAAAAAAAAAAAAAAAAAAAAAAAAAAAAAAAAAAAAAAAAAAAAAAAAAAAAAAAAAAAAAAAAAAAAAAAAAAAAAAAAAAAAAAAAAAAAAAAAAAAAAAAAAAAAAAAAAAAAAAAAAAAAAAAAAAAAAAAAAAAAAAAAAAAAAAAAAAAAAAAAAAAAAAAAAAAAAAAAAAAAAAAAAAAAAAAAAAAAAAAAAAAAAAAAAAAAAAAAAAAAAAAAAAAAAAAAAAAAAAAAAAAAAAAAAAAAAAAAAAAAAAAAAAAAAAAAAAAAAAAAAAAAAAAAAAAAAAAAAAAAAAAAAAAAAAAAAAAAAAAAAAAAAAAAAAAAAAAAAAAAAAAAAAAAAAAAAAAAAAAAAAAAAAAAAAAAAAAAAAAAAAAAAAAAAAAAAAAAAAAAAAAAAAAAAAAAAAAAAAAAAAAAAAAAAAAAAAAAAAAAAAAAAAAAAAAAAAAAAAAAAAAAAAAAAAAAAAAAAAAAAAAAAAAAAAAAAAAAAAAAAAAAAAAAAAAAAAAAAAAAAAAAAAAAAAAAAAAAAAAAAAAAAAAAAAAAAAAAAAAAAAAAAAAAAAAAAAAAAAAAAAAAAAAAAAAAAAAAAAAAAAAAAAAAAAAAAAAAAAAAAAAAAAAAAAAAAAAAAAAAAAAAAAAAAAAAAAAAAAAAAAAAAAAAAAAAAAAAAAAAAAAAAAAAAAAAAAAAAAAAAAAAAAAAAAAAAAAAAAAAAAAAAAAAAAAAAAAAAAAAAAAAAAAAAAAAAAAAAAAAAAAAAAAAAAAAAAAAAAAAAAAAAAAAAAAAAAAAAAAAAAAAAAAAAAAAAAAAAAAAAAAAAAAAAAAAAAAAAAAAAAAAAAAAAAAAAAAAAAAAAAAAAAAAAAAAAAAAAAAAAAAAAAAAAAAAAAAAAAAAAAAAAAAAAAAAAAAAAAAAAAAAAAAAAAAAAAAAAAAAAAAAAAAAAAAAAAAAAAAAAAAAAAAAAAAAAAAAAAAAAAAAAAAAAAAAAAAAAAAAAAAAAAAAAAAAAAAAAAAAAAAAAAAAAAAAAAAAAAAAAAAAAAAAAAAAAAAAAAAAAAAAAAAAAAAAAAAAAAAAAAAAAAAAAAAAAAAAAAAAAAAAAAAAAAAAAAAAAAAAAAAAAAAAAAAAAAAAAAAAAAAAAAAAAAAAAAAAAAAAAAAAAAAAAAAAAAAAAAAAAAAAAAAAAAAAAAAAAAAAAAAAAAAAAAAAAAAAAAAAAAAAAAAAAAAAAAAAAAAAAAAAAAAAAAAAAAAAAAAAAAAAAAAAAAAAAAAAAAAAAAAAAAAAAAAAAAAAAAAAAAAAAAAAAAAAAAAAAAAAAAAAAAAAAAAAAAAAAAAAAAAAAAAAAAAAAAAAAAAAAAAAAAAAAAAAAAAAAAAAAAAAAAAAAAAAAAAAAAAAAAAAAAAAAAAAAAAAAAAAAAAAAAAAAAAAAAAAAAAAAAAAAAAAAAAAAAAAAAAAAAAAAAAAAAAAAAAAAAAAAAAAAAAAAAAAAAAAAAAAAAAAAAAAAAAAAAAAAAAAAAAAAAAAAAAAAAAAAAAAAAAAAAAAAAAAAAAAAAAAAAAAAAAAAAAAAAAAAAAAAAAAAAAAAAAAAAAAAAAAAAAAAAAAAAAAAAAAAAAAAAAAAAAAAAAAAAAAAAAAAAAAAAAAAAAAAAAAAAAAAAAAAAAAAAAAAAAAAAAAAAAAAAAAAAAAAAAAAAAAAAAAAAAAAAAAAAAAAAAAAAAAAAAAAAAAAAAAAAAAAAAAAAAAAAAAAAAAAAAAAAAAAAAAAAAAAAAAAAAAAAAAAAAAAAAAAAAAAAAAAAAAAAAAAAAAAAAAAAAAAAAAAAAAAAAAAAAAAAAAAAAAAAAAAAAAAAAAAAAAAAAAAAAAAAAAAAAAAAAAAAAAAAAAAAAAAAAAAAAAAAAAAAAAAAAAAAAAAAAAAAAAAAAAAAAAAAAAAAAAAAAAAAAAAAAAAAAAAAAAAAAAAAAAAAAAAAAAAAAAAAAAAAAAAAAAAAAAAAAAAAAAAAAAAAAAAAAAAAAAAAAAAAAAAAAAAAAAAAAAAAAAAAAAAAAAAAAAAAAAAAAAAAAAAAAAAAAAAAAAAAAAAAAAAAAAAAAAAAAAAAAAAAAAAAAAAAAAAAAAAAAAAAAAAAAAAAAAAAAAAAAAAAAAAAAAAAAAAAAAAAAAAAAAAAAAAAAAAAAAAAAAAAAAAAAAAAAAAAAAAAAAAAAAAAAAAAAAAAAAAAAAAAAAAAAAAAAAAEp1bGnDoW4gUsOtb3MAAAWQAwACAAAAFAAAEKaQBAACAAAAFAAAELqSkQACAAAAAzI3AACSkgACAAAAAzI3AADqHAAHAAAIDAAACJoAAAAAHOoAAAAIAAAAAAAAAAAAAAAAAAAAAAAAAAAAAAAAAAAAAAAAAAAAAAAAAAAAAAAAAAAAAAAAAAAAAAAAAAAAAAAAAAAAAAAAAAAAAAAAAAAAAAAAAAAAAAAAAAAAAAAAAAAAAAAAAAAAAAAAAAAAAAAAAAAAAAAAAAAAAAAAAAAAAAAAAAAAAAAAAAAAAAAAAAAAAAAAAAAAAAAAAAAAAAAAAAAAAAAAAAAAAAAAAAAAAAAAAAAAAAAAAAAAAAAAAAAAAAAAAAAAAAAAAAAAAAAAAAAAAAAAAAAAAAAAAAAAAAAAAAAAAAAAAAAAAAAAAAAAAAAAAAAAAAAAAAAAAAAAAAAAAAAAAAAAAAAAAAAAAAAAAAAAAAAAAAAAAAAAAAAAAAAAAAAAAAAAAAAAAAAAAAAAAAAAAAAAAAAAAAAAAAAAAAAAAAAAAAAAAAAAAAAAAAAAAAAAAAAAAAAAAAAAAAAAAAAAAAAAAAAAAAAAAAAAAAAAAAAAAAAAAAAAAAAAAAAAAAAAAAAAAAAAAAAAAAAAAAAAAAAAAAAAAAAAAAAAAAAAAAAAAAAAAAAAAAAAAAAAAAAAAAAAAAAAAAAAAAAAAAAAAAAAAAAAAAAAAAAAAAAAAAAAAAAAAAAAAAAAAAAAAAAAAAAAAAAAAAAAAAAAAAAAAAAAAAAAAAAAAAAAAAAAAAAAAAAAAAAAAAAAAAAAAAAAAAAAAAAAAAAAAAAAAAAAAAAAAAAAAAAAAAAAAAAAAAAAAAAAAAAAAAAAAAAAAAAAAAAAAAAAAAAAAAAAAAAAAAAAAAAAAAAAAAAAAAAAAAAAAAAAAAAAAAAAAAAAAAAAAAAAAAAAAAAAAAAAAAAAAAAAAAAAAAAAAAAAAAAAAAAAAAAAAAAAAAAAAAAAAAAAAAAAAAAAAAAAAAAAAAAAAAAAAAAAAAAAAAAAAAAAAAAAAAAAAAAAAAAAAAAAAAAAAAAAAAAAAAAAAAAAAAAAAAAAAAAAAAAAAAAAAAAAAAAAAAAAAAAAAAAAAAAAAAAAAAAAAAAAAAAAAAAAAAAAAAAAAAAAAAAAAAAAAAAAAAAAAAAAAAAAAAAAAAAAAAAAAAAAAAAAAAAAAAAAAAAAAAAAAAAAAAAAAAAAAAAAAAAAAAAAAAAAAAAAAAAAAAAAAAAAAAAAAAAAAAAAAAAAAAAAAAAAAAAAAAAAAAAAAAAAAAAAAAAAAAAAAAAAAAAAAAAAAAAAAAAAAAAAAAAAAAAAAAAAAAAAAAAAAAAAAAAAAAAAAAAAAAAAAAAAAAAAAAAAAAAAAAAAAAAAAAAAAAAAAAAAAAAAAAAAAAAAAAAAAAAAAAAAAAAAAAAAAAAAAAAAAAAAAAAAAAAAAAAAAAAAAAAAAAAAAAAAAAAAAAAAAAAAAAAAAAAAAAAAAAAAAAAAAAAAAAAAAAAAAAAAAAAAAAAAAAAAAAAAAAAAAAAAAAAAAAAAAAAAAAAAAAAAAAAAAAAAAAAAAAAAAAAAAAAAAAAAAAAAAAAAAAAAAAAAAAAAAAAAAAAAAAAAAAAAAAAAAAAAAAAAAAAAAAAAAAAAAAAAAAAAAAAAAAAAAAAAAAAAAAAAAAAAAAAAAAAAAAAAAAAAAAAAAAAAAAAAAAAAAAAAAAAAAAAAAAAAAAAAAAAAAAAAAAAAAAAAAAAAAAAAAAAAAAAAAAAAAAAAAAAAAAAAAAAAAAAAAAAAAAAAAAAAAAAAAAAAAAAAAAAAAAAAAAAAAAAAAAAAAAAAAAAAAAAAAAAAAAAAAAAAAAAAAAAAAAAAAAAAAAAAAAAAAAAAAAAAAAAAAAAAAAAAAAAAAAAAAAAAAAAAAAAAAAAAAAAAAAAAAAAAAAAAAAAAAAAAAAAAAAAAAAAAAAAAAAAAAAAAAAAAAAAAAAAAAAAAAAAAAAAAAAAAAAAAAAAAAAAAAAAAAAAAAAAAAAAAAAAAAAAAAAAAAAAAAAAAAAAAAAAAAAAAAAAAAAAAAAAAAAAAAAAAAAAAAAAAAAAAAAAAAAAAAAAAAAAAAAAAAAAAAAAAAAAAAAAAAAAAAAAAAAAAAAAAAAAAAAAAAAAAAAAAAAAAAAAAAAAAAAAAAAAAAAAAAAAAAAAAAAAAAAAAAAAAAAAAAAAAAAAAAAAAAAAAAAAAAAAAAAAAAAAAAAAAAAAAAAAAAAAAAAAAAAAAAAAAAAAAAAAAAAAAAAAAAAAAAAAAAAAAAAAAAAAAAAAAAAAAAAAAAAAAAAAAAAAAAAAAAAAAAAAAAAAAAAAAAAAAAAAAAAAAAAAAAAAAAAAAAAAAAAAAAAAAAAAAAAAAAAAAAAAAAAAAAAAAAAAAAAAAAAAAAAAAAAAAAAAAAAAAAAAAAAAAAAAAAAAAAAAAAAAAAAAAAAAAAAAAAAAAAAAAAAAAAAAAAAAAAAAAAAAAAAAAAAAAAAAAAAAAAAAAAAAAAAAAAAAAAAAAAAAAAAAAAAAAAAAAAAAAAAAAAAAAAAAAAAAAAAAAAAAAAAAAAAAAAAAAAAAAAAAAAAAAAAAAAAAAAAAAAAAAAAAAAAAAAAAAAAAAAAAAAAAAAAAAAAAAAAAAAAAAAAAAAAAAAAAAAAAAAAAAAAAAAAAAAAAAAAAAAAAAAAAAAAAAAAAAAAAAAAAAAAAAAAAAAAAAAAAAAAAAAAAAAAAAAAAAAAAAAAAAAAAAAAAAAAAAAAAAAAAAAAAAAAAAAAAAAAAAAAAAAAAAAAAAAAAAAAAAAAAAAAAyMDIyOjA1OjA2IDAwOjIwOjQ4ADIwMjI6MDU6MDYgMDA6MjA6NDgAAABKAHUAbABpAOEAbgAgAFIA7QBvAHMAAAD/4QsgaHR0cDovL25zLmFkb2JlLmNvbS94YXAvMS4wLwA8P3hwYWNrZXQgYmVnaW49J++7vycgaWQ9J1c1TTBNcENlaGlIenJlU3pOVGN6a2M5ZCc/Pg0KPHg6eG1wbWV0YSB4bWxuczp4PSJhZG9iZTpuczptZXRhLyI+PHJkZjpSREYgeG1sbnM6cmRmPSJodHRwOi8vd3d3LnczLm9yZy8xOTk5LzAyLzIyLXJkZi1zeW50YXgtbnMjIj48cmRmOkRlc2NyaXB0aW9uIHJkZjphYm91dD0idXVpZDpmYWY1YmRkNS1iYTNkLTExZGEtYWQzMS1kMzNkNzUxODJmMWIiIHhtbG5zOmRjPSJodHRwOi8vcHVybC5vcmcvZGMvZWxlbWVudHMvMS4xLyIvPjxyZGY6RGVzY3JpcHRpb24gcmRmOmFib3V0PSJ1dWlkOmZhZjViZGQ1LWJhM2QtMTFkYS1hZDMxLWQzM2Q3NTE4MmYxYiIgeG1sbnM6eG1wPSJodHRwOi8vbnMuYWRvYmUuY29tL3hhcC8xLjAvIj48eG1wOkNyZWF0ZURhdGU+MjAyMi0wNS0wNlQwMDoyMDo0OC4yNjU8L3htcDpDcmVhdGVEYXRlPjwvcmRmOkRlc2NyaXB0aW9uPjxyZGY6RGVzY3JpcHRpb24gcmRmOmFib3V0PSJ1dWlkOmZhZjViZGQ1LWJhM2QtMTFkYS1hZDMxLWQzM2Q3NTE4MmYxYiIgeG1sbnM6ZGM9Imh0dHA6Ly9wdXJsLm9yZy9kYy9lbGVtZW50cy8xLjEvIj48ZGM6Y3JlYXRvcj48cmRmOlNlcSB4bWxuczpyZGY9Imh0dHA6Ly93d3cudzMub3JnLzE5OTkvMDIvMjItcmRmLXN5bnRheC1ucyMiPjxyZGY6bGk+SnVsacOhbiBSw61vczwvcmRmOmxpPjwvcmRmOlNlcT4NCgkJCTwvZGM6Y3JlYXRvcj48L3JkZjpEZXNjcmlwdGlvbj48L3JkZjpSREY+PC94OnhtcG1ldGE+DQogICAgICAgICAgICAgICAgICAgICAgICAgICAgICAgICAgICAgICAgICAgICAgICAgICAgICAgICAgICAgICAgICAgICAgICAgICAgICAgICAgICAgICAgICAgICAgICAgICAgCiAgICAgICAgICAgICAgICAgICAgICAgICAgICAgICAgICAgICAgICAgICAgICAgICAgICAgICAgICAgICAgICAgICAgICAgICAgICAgICAgICAgICAgICAgICAgICAgICAgICAKICAgICAgICAgICAgICAgICAgICAgICAgICAgICAgICAgICAgICAgICAgICAgICAgICAgICAgICAgICAgICAgICAgICAgICAgICAgICAgICAgICAgICAgICAgICAgICAgICAgIAogICAgICAgICAgICAgICAgICAgICAgICAgICAgICAgICAgICAgICAgICAgICAgICAgICAgICAgICAgICAgICAgICAgICAgICAgICAgICAgICAgICAgICAgICAgICAgICAgICAgCiAgICAgICAgICAgICAgICAgICAgICAgICAgICAgICAgICAgICAgICAgICAgICAgICAgICAgICAgICAgICAgICAgICAgICAgICAgICAgICAgICAgICAgICAgICAgICAgICAgICAKICAgICAgICAgICAgICAgICAgICAgICAgICAgICAgICAgICAgICAgICAgICAgICAgICAgICAgICAgICAgICAgICAgICAgICAgICAgICAgICAgICAgICAgICAgICAgICAgICAgIAogICAgICAgICAgICAgICAgICAgICAgICAgICAgICAgICAgICAgICAgICAgICAgICAgICAgICAgICAgICAgICAgICAgICAgICAgICAgICAgICAgICAgICAgICAgICAgICAgICAgCiAgICAgICAgICAgICAgICAgICAgICAgICAgICAgICAgICAgICAgICAgICAgICAgICAgICAgICAgICAgICAgICAgICAgICAgICAgICAgICAgICAgICAgICAgICAgICAgICAgICAKICAgICAgICAgICAgICAgICAgICAgICAgICAgICAgICAgICAgICAgICAgICAgICAgICAgICAgICAgICAgICAgICAgICAgICAgICAgICAgICAgICAgICAgICAgICAgICAgICAgIAogICAgICAgICAgICAgICAgICAgICAgICAgICAgICAgICAgICAgICAgICAgICAgICAgICAgICAgICAgICAgICAgICAgICAgICAgICAgICAgICAgICAgICAgICAgICAgICAgICAgCiAgICAgICAgICAgICAgICAgICAgICAgICAgICAgICAgICAgICAgICAgICAgICAgICAgICAgICAgICAgICAgICAgICAgICAgICAgICAgICAgICAgICAgICAgICAgICAgICAgICAKICAgICAgICAgICAgICAgICAgICAgICAgICAgICAgICAgICAgICAgICAgICAgICAgICAgICAgICAgICAgICAgICAgICAgICAgICAgICAgICAgICAgICAgICAgICAgICAgICAgIAogICAgICAgICAgICAgICAgICAgICAgICAgICAgICAgICAgICAgICAgICAgICAgICAgICAgICAgICAgICAgICAgICAgICAgICAgICAgICAgICAgICAgICAgICAgICAgICAgICAgCiAgICAgICAgICAgICAgICAgICAgICAgICAgICAgICAgICAgICAgICAgICAgICAgICAgICAgICAgICAgICAgICAgICAgICAgICAgICAgICAgICAgICAgICAgICAgICAgICAgICAKICAgICAgICAgICAgICAgICAgICAgICAgICAgICAgICAgICAgICAgICAgICAgICAgICAgICAgICAgICAgICAgICAgICAgICAgICAgICAgICAgICAgICAgICAgICAgICAgICAgIAogICAgICAgICAgICAgICAgICAgICAgICAgICAgICAgICAgICAgICAgICAgICAgICAgICAgICAgICAgICAgICAgICAgICAgICAgICAgICAgICAgICAgICAgICAgICAgICAgICAgCiAgICAgICAgICAgICAgICAgICAgICAgICAgICAgICAgICAgICAgICAgICAgICAgICAgICAgICAgICAgICAgICAgICAgICAgICAgICAgICAgICAgICAgICAgICAgICAgICAgICAKICAgICAgICAgICAgICAgICAgICAgICAgICAgICAgICAgICAgICAgICAgICAgICAgICAgICAgICAgICAgICAgICAgICAgICAgICAgICAgICAgICAgICAgICAgICAgICAgICAgIAogICAgICAgICAgICAgICAgICAgICAgICAgICAgICAgICAgICAgICAgICAgICAgICAgICAgICAgICAgICAgICAgICAgICAgICAgICAgICAgICAgICAgICAgICAgICAgICAgICAgCiAgICAgICAgICAgICAgICAgICAgICAgICAgICAgICAgICAgICAgICAgICAgICAgICAgICAgICAgICAgICAgICAgICAgICAgICAgICAgICAgICAgICAgICAgICAgICAgICAgICAKICAgICAgICAgICAgICAgICAgICAgICAgICAgIDw/eHBhY2tldCBlbmQ9J3cnPz7/2wBDAAcFBQYFBAcGBQYIBwcIChELCgkJChUPEAwRGBUaGRgVGBcbHichGx0lHRcYIi4iJSgpKywrGiAvMy8qMicqKyr/2wBDAQcICAoJChQLCxQqHBgcKioqKioqKioqKioqKioqKioqKioqKioqKioqKioqKioqKioqKioqKioqKioqKioqKir/wAARCAEEAeUDASIAAhEBAxEB/8QAHwAAAQUBAQEBAQEAAAAAAAAAAAECAwQFBgcICQoL/8QAtRAAAgEDAwIEAwUFBAQAAAF9AQIDAAQRBRIhMUEGE1FhByJxFDKBkaEII0KxwRVS0fAkM2JyggkKFhcYGRolJicoKSo0NTY3ODk6Q0RFRkdISUpTVFVWV1hZWmNkZWZnaGlqc3R1dnd4eXqDhIWGh4iJipKTlJWWl5iZmqKjpKWmp6ipqrKztLW2t7i5usLDxMXGx8jJytLT1NXW19jZ2uHi4+Tl5ufo6erx8vP09fb3+Pn6/8QAHwEAAwEBAQEBAQEBAQAAAAAAAAECAwQFBgcICQoL/8QAtREAAgECBAQDBAcFBAQAAQJ3AAECAxEEBSExBhJBUQdhcRMiMoEIFEKRobHBCSMzUvAVYnLRChYkNOEl8RcYGRomJygpKjU2Nzg5OkNERUZHSElKU1RVVldYWVpjZGVmZ2hpanN0dXZ3eHl6goOEhYaHiImKkpOUlZaXmJmaoqOkpaanqKmqsrO0tba3uLm6wsPExcbHyMnK0tPU1dbX2Nna4uPk5ebn6Onq8vP09fb3+Pn6/9oADAMBAAIRAxEAPwD6KopKKyLFopKKAFpw6UynCgBTSiik6VQDqKbk0ZNADqKaDzTqBBSUtJQgCiiimIKKKKACiiigAooooAWikopgLRSUZoAWikzS0AFFJS0AFFFFABRRRQAUUUUAFFFLQAlFLRSASjFLTc0AOxRim5NGaAHYpMUmaXNABRS5ooASijIopgFFGKMUAFFGKMUAFFGKMUAFFGKMUAFFGKMUAFFGKKAIqKKSsyhaKSigBaUU0U4UAOzR1ptFMQ6kozSUxjhS5ptLQA6ikFLQISiijFABRRiigAxRiqsuoRpKYYEe4mHVIx936noKrTDWpkUwtaWp3cggyHb9eBmgDTxRWcbbVIjui1GOY/3JoAAfxXkVPZX32lpIZYzDcw48yInPXoQe4NAWLRooooEFFFFMAooooAhuYpZkAguXtz3ZVBz+dZupW97baXcTjVZ90UZZQEQZIHHatgda5zXX15kW3hg08xT3KRoWlcNtznnj2oGdDbl2tojJ98oC31xzT6qWTaiS39oJbIP4fIZj+eQKtZoAWijikzQIWikyaMmgBaM0mTRQAuaM0lKKADNJUVzd29nH5l1MsS9ix6/Qd6rw6vaTyoitKpf7m+FlDfQkUh2LtFH1ooEFFFFMAooooAKXNJRQAuaM0lFADqKbmjJoAdRTcmjJoAdRTcmjJoAdRTcmjNADqKbRQBHSUZpKgsWikooELS5ptLQA7NFJmigBaKSlpiFHWlxSDrRmgBadTM0uaYx1FIDS0CCqNzI9zd/YoXKALvmdeoB6Ae5q7ms3TD/xMdUD/wCs+0Dr/d2jb/WgZdWFYbcxWoWIYwuBnB9feqthJOb25gln+0RxbcSFApDHqvFJrD6ksEa6VAkrO+JCZQhRfUZHWm2Y1CAJF9itooQecTlm9z93k0AadYerXiaZr1ncNFLJ5sEqMsKFmIXDDgfjW3WXbn7fr73Scw2kZhR+zOT82PpgCgCWDW7GaBJGlMO4fclUqw+op/8Aa2nn/l8i/wC+qu9etJtHoPyoEVRqViel5D/32Kf9usz0u4P+/g/xqUxxnqin6qKYbS2b71vCfrGKAFW4gf7k8bfRwakHPQ5+lQGws262kP8A37FRnS7E9LZF/wB3I/lQBcxVG7hnm1SxKx5giZpHfPQ7cAY/GnDSrUHKiVfpM/8AjS/YFH3bm6X/ALak/wA6ALZpMVU+xy/w6hcD6hT/AEpRbXQ6X7H/AHolNAFrFGKqmO/H3bqBv96E/wBDSD+0R1Fo/wBNy/40AW8UYqp516vW0jb/AHZv8RR9quB96wk/4DIp/rQMt4pap/byv3rO6H0QH+Rpp1SIfegux9bdv6CgC9VS8u3idYLVBJcyDKqTwo/vH2qmviC3GofZpobiNWAKTNCwT6EkcGmxXf2carfNDLcSRTGMRwruYqoGAB+NILFqOzgs915eyCWYDL3Ev8I9FHYfSqNrBZeIJW1RGuQm4xRlZnQMBwTgY71Ba3d/fbbq+0W6yBuSCR0VY/wzyfrVjwzc3U2lxefYPAsheTe0inOWJ6CgCV1k0aaF1mlls5ZBG6SuWMZPAIJ5xntWsaztVAuJbKzHJlnEjY7KnzH9cVpHmmISijFGKACijFGKACijFGKACijFFAgooopgFFFFABRRRQAUUUUAFFFFAENFJRmoKFopM0ZoAWlpuaM0AOpc0zNLmmA6ikozjrSAcKKz21GZGSQ2mLRmC+aX+YZOAduOn41fPWgBwpabTgaYCUuKhuLuK3IVyWkb7saDLN+FQmG4vB/pLGCI/wDLGNvmb/eb+gp3AoaveS263EtjdzySRIWMKKhRcepI4/PNPis9Qktba/8ANjXUvLHmqVwkgPOw/T1q7PYJLFDAgWO3Rw7ooxux0H51bzzQBlf8JDbwHZqsM2nyDr5qEofo44NK3iXSAP3d6kznokILsfoBWqOeDyKgspluLcTIgTcSBgdQDigCj/p2qL86vYWh6gn99IP/AGUfrWlDFHBCsUKBI1GAo7U+loAKKKKBBRRRQAUUUUAFJS0lABRRRTEFLSUtIYUmKWigApKWigZTubOS9bZcS7bb/nknV/8AePp7Cq9zBPYXb3thEZo5Mefbr1OOAy++O3etNmCKWYhVAySTwK5h/FVydegSGxb+yHyrXjcbjnG4D+6D396QGxb6xYXoMcVyiS4wYpPkdfqp5oW4tNH02GK4uEAjXaoz8zn2HerFzY2l6u28topx/toDUNtpOn2UvmWtnDFJ/eC8/nQA2whllne/u02SSDbHGesaeh9z1NPubmWzm8yRDJan7zKPmiPqR3FW80ZpgEbrJGHjYMrDIYHINOrNlhl012nsk327HMtuP4f9pf8ACrsE8dzCssLh0boRSAlooopiCigVS0u7kvLMyygBvNkQY9FYgfyoAu0lLSYoAKKMUUxBRRRQAUUUUAFFGKMUAFFGKKQFfNGaSlqS7BmjNGKKAsGaWkopgLRSUUCHClpBQQGUg8gjBoGYdxrlhd3ggS4EkVvJ86wgu0jj+EAdh3NadrfPdSEGxuYF6h5lCg/hnNOs7G1sIzHY20VurElvLQDJ9T60S3mJDDbJ583cA/Kn+8f6UATySJFGXlZUUdSTiq/m3F3/AMe4NvCf+Wrj5m/3R2+ppY7PMgmu38+UcgYwqfQf1q1SERW9rFbZ8tcs33nY5ZvqanptOBoAKKWkpoBGO2Nj6Amqmj86Pan1jz+dTXj+VYXD/wB2Nj+lM0+PydMto/7sSj9KALdFID60tMQUUUUAFFFFABRRRQAUlLSUAFFFFMQUtJS0hhRRRQAUUUlICK5toruExXC74yeVz1+tU7qCOTU7aB0UxNBIhTHGOOK0apz/APIYsv8AckH8qBklnFLbx+RI3mInEbnrt9D9KnPWjNFMBKXFFLSuAlUZraW0ma609chjma37P7j0b+dX6M80CI7a5iuoRLC2V6EdwfQjsalqhdWkkcxvLDAm/wCWkZ+7MPf0PvVi0u47yHfHkFTh0b7yH0NAEx6HHpWb4f58P2jd2UsfckkmtPqKhtLWOztI7eHOyMYXNMZNRRRQIKKKKAExS0UUAFFFFABRRRQAUUUUAVqKKKg0CiiigAoooxQIKKBS8Yz+dMVgpk1xFbx75n2joPUn0A71WN607GPTlEpBw0zf6tfx/iPsKfDaJFJ5sjGec9ZX7fQdhTuMQC4vPvbrWA/wj/WP9T/D/OrMUUcEYjhQIo7CnClNAC5paYDThQSLS0lFIQ4HNLTKXNAFPWSRpE4HVwEH4kCrgG0ADoBiqWqHdDbx/wDPS5jH65/pV6mMSnZptFMB9FNzS5oAWikzmloEFFFFACGig0tAxMUYpaKBCYpaKKACiikpALSUUUAFU5xnVrT/AGUkP8quVUPzaz/1zt/5t/8AWoAtdqKTNKKQC0UUUAFIaWkNNDFBqnd2b+d9qsiEuVGCD92Ueh/xq1TgaYEFpdpdxkqCjocSRt1Q+hqxVO7tGaQXNoQlygwCekg/utUlpdrdRkgFHU4kjbqh9KQFiiiimIKKKKACiiigAooooAKKKKACiiigCpmjNJRwOScADJJ7VBoNlnjghaWeRY41GWZjgCsyTW5zG01pp0jW68+fcSLChHqM8/pS2yf2vOL64XNojYtoj0bH/LQ+vtVi8W0mvrOG8fezFjFCeVcjkk/QUwMmy8aW95KYf7N1ETDJCxwF1dR1ZW4yK1rHW7HUJmgglZLhRloJkMbj8D1/CrTRo06SlQXjBVG9AetVtS0yLVLfZJ8k6cwTrw8TdiD/AEoAfLqUEcnlRbrmftFD8xH1PQfjTRaTXeG1FgI+1tGfl/4Ef4vp0qDw9dfadLw8KQXEMjQ3CIoALqeT+PX8a1M0CBVCKFQBVUYAAwBQaKTNAxwPNLTRSg5piFHWnCm04UCClpKKQhaKBRQBUvBvvrBP+mjOfwU/41cqk/z65CP+ecDN+ZAq9imAlFLijFO4CUUuKMUXAB1p1IBS0AFFFFAhDS0UlAC0UgpaACiikzQAtJRRSAKKKaTSAWqkPzapdN/dRF/matZqrbf8f14f9pR/47TGWaUHFJRSEO60tNzRk0ALmg02nUxiUUtGKdwFFVLu0dpBc2bBLhRjn7sg/un/ABq2KWkBXtLxLpCMFJU4kibqh/z3qxVO8s/OZZrd/JuY/uyY4I/ut6ilsr77TuimTyrmP/WRE/qPUUAW6KKKYgooooAKKKKACiiikAUUUUAU6zddkb+z0to22veTLbgjsD979Aa0s1k+I1kXS0u4ULvZTpcbR3APzfoTSLNVI0iRY41CoihVA7AVmXID+LdOB/5Z20zj6kgVoxTx3MCTwsHjlUOjDuDVGSKRvFNtMEPlJaSKX7AlhgfpQBpGgUD3qnqWorp8C7V825lO2CBert/h6mkBU0fjW9e2/wCrN0mPr5YzWxVLSbBtOsFimfzJ5GMsz/3nbk/h2q7TGA96MUtFIBBThSUoNMQtLSUtMQuaKSlFIQUUUUAVIDu1m7b/AJ5xxoPxyau1SsTuur9/Wfb+Sik+1SNr5tFx5SW3mN/vFsD9AaYF/NFNpc0hDqKbmloAWkzS0lUhi5oJptLQAZpabTu1AC0UmaTOaAFJ9KQUUdKGAtJmkzmkqRC5pKKKACq1oc3V5/11A/8AHRVmqtlzPen/AKb4/wDHRQMtUVQn1iKCZ0+zXcix/fkjgLKv41ciljnhSWFw8bgMrDuKAH0UUUCCnDpTacOlAC0UUUAFGaKKAErN1FrZrqNHm+y3ajMEzDCt/s56H6Vp1XvWt1tJGvVV4QOVZc59sUDK9nqhnvPsUsLpdJHvlwPlAzgEHvmp59TsrZ9s95BG391pBn8qwNP8JQLqM+oTNNAtx0tI5Cqqvo2Dz9K6CCxtbZAtvbRRgf3UH86YDItWsJnCx3sDMeg3jJq3VG4l024P2Wea2Zn4CFlzn2qG1jfSGMUsrSWrt+7Y/wDLP2Pt70AatFJmjNAgooopAFFFFAFLNL65GQeoPem0tBZgtp2raPIf+EeNvcWbMWNldMU8snrscZwPY1INX1xeJfDTE+sV6jD9QK26KAOfudU8QGMMmlQWERcK89xOJDGD/FsXr+daen6VHZStcTSvd3kg+e5l6keijoo9hVwqrKVYAqwwQe4qhHK2lyLb3TE2jnEEx/gP9xv6GgDRpw6UlAOKQDqKSloGFAopaAClBpKMU0JjqKaOKdTJFoHWkpV+9SAp6XzHdN/eupD+uKitAzeIdSkYYVUiRT68E/1qTSOdNR/77u35sau4GSQOT1pjFopKWkIKUUlKOtAh1JS0UwG0U6kxTuMSilxRQAlLRiii4B0ptKTSUhBRRRSGFFJRQA4VU0/n7U3964b+gq2v3hVPTD/ort/emc/rQCGalfNAotbRfNvJwRHH2X/ab0AqbT7QWGnQWqtu8pApb1Pc1kx+H7+DUru7t9dmU3L7ir26PsHZQTzirSWmsxOCNVhnXPKy2oXI+qmgbNSigZwM9e+KKCQpw6U2nDpQAtJS0UAFFFFABWdN/pWtxwtzFaoJWHq54X8hk1o1ltJ9k8RfveIryIKjf7a5+X8QaBljUNStdLtTcX0nlxjpwSWPoMd6o24TW1El1dK0RGVs4pMYH+33J9qt6rBLLbxPAnmNBMsvl/3wO31rPvtQ0q7tXeMhb0AiJfLKzK/YdM/0oQGvHYWkUYSO1hVR0AQVLIiyxtHIoZGGCD3oiL+TH5v+s2jd9cc02eeK2haadwiL1JoAraZIxt5IJG3SW0hiJPcdQfyIq7VHTI3K3FzIpQ3MvmKh6hcADP5VfoAKKKKBBRRRQBQpaQGloLFpabmloAWmyRpLE0cqB43GGVhwRS0tAGcjtpDLFcMz2LHEczcmH/Zb29DWmfzz6UxwJEZHAZWGCpGQRWYXk0U4bdLpxP3urW/+K/yoA1s0A+tNV1dA6MGVhlWByCKWkMcKXNNHWnUAGaXNJS0CYZpaSlpiFzTZG2Qu/wDdUn9KWqupyeVpN0/pE2PxGKADSV2aPag9fLB/PmrlRQJ5dtFH/dRR+lSUALS0gooELRQKKAHZpM0lFADs0U2igQ+kpM0ZpgOppPpRSUgCiiigYZpKKKBhRRRQJir1qlpJzpcR9Sx/8eNXM4BPoKp6QMaPb+6k/qaBlyiiigQoooFFAgpw6UlKDmgBaKKKACiiigAqC7tIr22aGcZU8gjqp7Ee9T0lAGSuoS6WfJ1jJiHCXir8pH+3j7p9+lWG1nS0XzWv7XGPveapNWbieK2t3luWCRKMuW6AVmQX3h2SdTBNp/mscKQFDE0Iod/a1zfcaPZs6f8APzcgxx/gPvNU0Gl/vluNQma8uF+7uGET/dX+prQooAKWkpaCQooooAKKKKAM0GnA0ylzSNB9LTQadTELS0lFABS9ueR3B70lFAGY8EukM01ijS2ZOZbYdY/Vk/wrRgniubdJrdxJG4yGFPFZ01pNZTtdaYu4MczWucCT3X0b+dAI0qdnNVrO8hvoPNt2yAcMp4ZD6EdjVgGkMWlzSUUCFzmlFIKWmIWqGtH/AIlhj/56yxx/mwq9WdrZ221ox6C8hz+dAGmfvUUH71FAAKWkpaAClpKWgQUUUUAFFFFAgooooAKKSigYUUmaKBi0lFFABRS0lACSHbBIfRCf0qDTBt0m1H/TIGlvn8vTblv7sTH9KfaLssbdfSJf5UAS0UUUCsKKKKKAClFJThQAtFFFAgoopCcdenrQAtMd1RCzsFUdWJwBVJ7+S4Zo9NjExBw0zHEa/j/EfpSLpSSsJNQka7kHID8Iv0Xp+dAxrasJ2MemQNeP0Lj5Y1+rHr+FZqaY994lQ6hKJ1tIxK8SqBGJD93A9hk10aqFUBQAB0AHSo4LaOB5nTJaZ97k9zQMlpaKKCQooooAKKKKACiiigDMozSZopGthwNOpgNOBoEOpaTNGaYh1YeratL9lml07mC1IM0w/jOcbFPr6mpte0m41mzW1t9UuNNQtmV7dVLOP7uT0FYuu+Flfw8bafVdSnQyxJt8/wAtcbxxhAKAOx54yMHHSiq9pZQ2EZhtzIUz/wAtJC5/M1PQBSu7B2uPtmnuIbvHzZ+5MPRh/WpLHUEvN8ToYLqL/WwP1X3HqPerQqrfael7scO0FzHzFOn3l9vce1Ay5TqzLTUX+0iy1NVhu/4GH3Jx6qfX2rSFIBRS0lLQAVl6/IjaPchWDSQGOQqDyMMCK02YIpZyFUdSxwBWNeSaXe3aS2ur29tfL8gkjlRiw/usp4IpiL+n351D7U4QLHFcNCjA53hep/PNXar2NolhYxW0RLKg+8erE8k/iasCgQUtJRQAtFJS0AFLSUUCFopKKAFpKKKACijNJQAUUUUDCiiigAooooAqaqcaPd/9ciKtRjbDGPRAP0qnrJxo1x7qB+oq9/hQAUUUUAFLmkpaBBRRRQA4HNGaaTgEk4A6k9qoG/lu2KaWocDhrlx8i/T+8aYFq6u4bRA0zYJ4VAMsx9AKqi3n1A7r7MNv2tlPLf75/pU1rYx27mV2ae4b700nX8PQfSrYFIBFRUQKgCqowABgClxS0UAFFFFAgooooAKKKKACikpCfSgB1FNyaKAMylFNopI2HUtNzS5piHg0uaZmlzSEOps0CTxbJRldwbHuDkUopcmmA/rRSA0tAWFopKWgLEN3ZwX9uYbpNyZyCDgqfUHsapQXk+lzpa6vJ5kDsFgvMYB/2X9D79606y9T0P7bI1xa3L287LtdW+eGUejoePxGDQBY0e5mubWf7Qd0kV1LFnHYNx+lFxqMklw1ppcaz3C8SSMf3cP1Pc+wrKsNOl0pf7GsJmRrpjcTANuFsp4bax55PQHpXQW1tDZ26wWyBI17evufU0CKK6JbyuJdTdtQmHOZv9Wv+6g4H45q6bS1MfltawlMY2+WMUXdyLS3aYxSzbf4IU3MfoKr2WrRXlwbd7e5tJwu8R3Me0svqMEg0AVbHUIbAz292s9rBHKRbtPGQuzHTd6A+tbKMHQMjBlYZDKcg0dQQeQeoPesqWMaLOtxb/LYyuFni7RE9HHoM9RQBrUtJ0paBBS0lFAC0ZpM0UALmjNJRQAtJRRQAUUGkoAM0tJRQAtFJRQAtFJWdJrIkdotLtpL+RThmQhY1Pu54/LNAE2rI8unlEUtmRMgem4Zq6fvVlga5JyZLC1/2QrS4/HIpklzq2nr514lvd26/wCseAMjoPXac5/OgDXopsciTRLLEweNxlWB4Ip1ABS0lKOaBBVa8vorPar7pJX/ANXCgyz/AIf1qGe/eWdrXTFWWYcSSn7kP19T7VNZ2EdoWcs01xJ/rJ3+83+A9qYEAsp77D6oQEzlbWM/KP8AeP8AEf0rQVQqhVAVQMAAYAoqK6uobK1kubpxHFGMsx/zzQBLS5rCtvGeg3UKyR3xVG6GSF1H6iti3uYLuETWsyTRnoyHIpATZoyKbRQIdkUmaSigBc0ZpKKAFzRmkooAKKKKACiiigDLBDDKnIPQ0VkIRHxG7KOMhTwKWOe8iIYSpMvcEY/yadjqcTWFLVaC9jkH7weU3o3+NWfpSIaHClpopwoJFpabS0hD80oplOzTAcKWmg0tAxaWm0tAmZ2kHzdS1edvv/aRD9FVRj+ZrVrFt2+weKLm3k4i1ACaFj3kUYZfrjBrYznIPTpQIeMH6VhaXPv1qf8AtYPFqRysKMP3flZ48s9/fvTjpms2wKadrEfk5OxLq2DlPbcCCfxpYdJ1Ke8t59Y1GKdLZ/Mjit4PLG7GMkkk/hQBtVHcQLdWk1vIMrKhU/iKkqO4uI7O1luZjtjiQux+lIDA0rxKsel2/wDa9vcWygeWLgrvjkKnbnK529O9bMOr6bcAeRf2z+wlGfyqHQIXt9AtUlBV3UyMp7biWx+tWJtNsLj/AF9jbSe7RKf6UwLKsHGUYMPY5p2Kyz4d0k/ctBEf+mUjJ/I0DREj/wCPW/voPYTlx/49mgRp0VmfYtUj/wBTq3me09up/UYpQ2tR/ejsbgf7LMh/XNAzSorNOo30f+u0ibHcxSo/+BoOu2yf8fEF3B/v27EfmM0AaVJmqSa1pshwL6EH0dtp/WrKTRTDMMqSD/ZYGgRJmikwaKAFooooEFAGaKr6hcfZNMurjODHEzA++KBlJs63cSxbiunwtsfacGdx1Gf7o/WtSONIo1jiRURRhVUYAFVtKtxa6RawjqsSlj6kjJP5mrdABTXkWKNnc4VRknFV76W7SMLpsdvLcZyUnkKjb68AmlsTqBjY6mLZXJ+VbcsQB7k0CM6xubey1IW9pNHJY3rFodjZ8qXqy+wPUCtusy/0Cxvpo7gRLBeQtviuYhhlb1Pr+NQf2+1tMdPubeSbVAMrDCpxKvZ89FHrnpTGa800dvC007rHGoyzMcAVnLJdayMQ+ZZ2B6yEYkmH+yP4R79aIdLluplutadZpFOY7Zf9VF/8Ufc1q0AR29vFawLDbRiONeiipKKKBMKydU0y/u9Rt7qzvYY0gU4gnh3qW/vcEc1rVmXGu21ndSQXkdxGVI2ssDuHGOoIBpAJZXt1FeLp+rQQJJIpaGS3yY5cdRg9D7VpqqoMIiqPQDFY6TPrOpWksFvNDa2jmTzZkKGRiMAKDzj3NbNABRRRQIKKKKACiiigAooooAKKKKACiiigDjFk3fewdoyVXovY04PnksCc43Hpken4VEDlhuUBWwQoPUHg80p4wMBpBycdFIPcfSqO8nD+uCvYuOvpxUsErRsCjMo7q5yD+HaqO4hzsOTyAx6ccjFKsnG5Txn77fTOMdqBWOgjlWQccH0qQGsWCchdwz7ljitSCcSDrSMpRsT0opM0UjMcKWmg0oNIQ9aXNMBpwNMBwpabThQDK99Yw6ja+TcZGDuR1OGjYdGB9azv7UvNI/d65A80I4F/boWUj/bUcqffpW2BS0AVrTU7G9jD2d5BMv8AsSA1YMiDqyge5qhdaBpN5IXudPt3c9W2AE/iKrjwloYP/IOiP1JP8zSAsXWv6baN5bXSyzHpDB+8kb6KKhS3u9ZkSTU4ja2aMGS0Jy8hHQvjoP8AZrQtLC0sE22VtFAv/TNAuasUwClpKKBC0UlFAC0UlFAAWCqWYhVAySTgCora9trxSbO5inA4PlOGx+VPkjSaJo5VDIwwynuK5vWbewbVLTT9PgitdUkAeO4jXy/KRSM8j73pigDpJIYpf9bFG/8AvKDVOTRdNkOTZRA+qjb/ACq9RQBnf2Lbp/qJrqD/AK5ztj9c0v2C8T/U6tP9JY1f+grQooAz9usxdJLO4HoytGT/ADpDqF/F/wAfGkykf3oJFf8ATg1o0UAZM3iK1jiYHdbz4+VLtGiUn03EYqvNqK6zo15ZNC9tdyW7lY2IZX46ow4YVt3Dstu5WHz2xxHkfN7c1m6dpcqXS3l+IUePcIbaBcRwg9ef4ifWgRd064W70q1uI+VkiU/pzVkHBrFVj4fuHWQE6ZO5dXAz9nY9Qf8AZPr2rVkihvbUo+JYZB1VuvuCKAMeX7ToOoy3k4jubO6mCtJjE0JY4A9GX6YrfNZUHh+0hulnklurkxnMa3M7SKh9QDWpTAKzNU/c6xpNwnDvM0De6lScfmK1MVlxsNV1eO4j+a0stwRx0klPBI9gP50gNSlFJRTAWikpaQgpcmkooEFFFFABRRRQAUUUUAFFFFABRRRQAUUUUAFFFFAHDkqgIB2rkpnu2RkZFI75PzZRSc7B15H6ioVZiUA/eSNtAY9P90g/ypyZyvl8cr+9I+72x/niqPRHBuV3BWJKsIx0PGM8UgbMiHO5/lwSeAemDTVA2nbwowXY4JBz1HekKnZgrgFTgcjzMN/OmBPHJggD5iOCW6LzjFW4bkh/lLOR1I6ZrOf0Y4HzBU4J9cHpxU+7H+sznp5Y68ev+NITRvQTiQYbg/Wpqwo5TGFYbExyAepraikEkSupyGFJmEo2JRnvS00GnZpGbFFKKQGlBpCHg04GowaeKYEgNLTKUGkA6ikzS0AFFFFAC0UmaWgAooooAKOgoooEQ213b3alraZJADghTyD7jtUWpadbajZtHeIuFBZJTwYm7MD2xUN7oGmX8xmuLUCY/wDLWJjG/wCakGqg8I6YWBma8uEBz5c15I6fkTg0wLmhXUt7oVpcXBzKyYZv7xBxn8cZrQpqIscapGqoijCqowAKdSGFFFFABRSU6mIKKKTvTEKQGUqwBUjBBGQayzof2di+kXUliScmNRviJ/3T0/CtWikBlg69HwRYT/7WXQn8OaXfrjcCKwj9zI7Y/DArTpRTC5lnSZ7vH9q3zzpnPkRL5cZ9jjk/nWkiJFGscShEUYVVGABTqKQBRRRQIKWkooAWiiigAooooEFFFFABRRRQAUUUUAFFFFABRRRQAUUUUAcJbnzjHHjYkkaswTjJzTWP+kCPjaHVCPXnqfeiiqPRHKvmeduLfuQ+znpg0N/x7+aQCXJBBHHIoopgRqd8YZvvPIUY9cjHX607cVO1TjLlSe5GKKKAJ87LQSr9/JGSemK09HdntmDndjnmiipZnLY0aWiipRziilFFFMQoqRelFFAh1FFFIYUooooAdRRRQAUUUUAApaKKACiiigAooooAKKKKACiiiglhS0UUwCkHWiimA6iiikIKUUUUAFFFFABRRRQAUUUUAKKKKKACiiigQUUUUDCiiigQUUUUAFFFFABRRRQAUUUUAf/Z)"
      ],
      "metadata": {
        "id": "SZHJqSu3zzQq"
      }
    },
    {
      "cell_type": "code",
      "source": [
        "#Create Graph\n",
        "import networkx as nx\n",
        "from heapq import heapify, heappush, heappop\n",
        "import sys\n",
        "\n",
        "inf = sys.maxsize\n",
        "G = nx.MultiDiGraph()\n",
        "r=range(1,7)\n",
        "G.add_nodes_from (r)\n",
        "for i in r:\n",
        "  #G.nodes[i][\"s\"] = [] #Succesors\n",
        "  G.nodes[i][\"p\"] = [] #Predeccesors\n",
        "  G.nodes[i][\"l\"] = inf\n",
        "  G.nodes[i][\"d\"] = inf\n",
        "keys = G.add_edges_from ([(1,2,{\"c\":2}), (1,3,{\"c\":4}), (2,3,{\"c\":1}), (2,4,{\"c\":7}), \n",
        "                          (3,5,{\"c\":3}), (5,4,{\"c\":2}), (5,6,{\"c\":5}), (4,6,{\"c\":1})]) #(v, u, dict with characteristics)\n",
        "print(G.nodes(data=True))\n",
        "print(G.edges(data=True))\n",
        "G.nodes[2][\"p\"] = G.nodes[1][\"p\"] #+ list(1)\n",
        "G.nodes[2][\"p\"].append(1)\n",
        "print(G.nodes[1][\"p\"])\n",
        "for edge in G[1]:\n",
        "  print(\"edge is: \",edge)\n",
        "  print(\"cost is: \",G.edges[1,edge,0][\"c\"]) #IMPORTANT: 1 = source, edge = destiny, 0 = *is nothing, ignore (implementation of newtorkx requires it)*\n",
        "#For retrive information of a edge if time is a dictionary\n",
        "#print(G.edges[1,2,0][\"time\"][1])\n",
        "\n",
        "# G.nodes[i][\"successors\"].append(x)\n",
        "# print (G.nodes[1][\"successors\"])\n",
        "\n",
        "#NOTES\n",
        "#I can asign several variables to each edge, including a dictionary with cost by hour"
      ],
      "metadata": {
        "colab": {
          "base_uri": "https://localhost:8080/"
        },
        "id": "z4AYOj5CT4D0",
        "outputId": "9a3d950a-d39b-4050-ea75-732934526c25"
      },
      "execution_count": 59,
      "outputs": [
        {
          "output_type": "stream",
          "name": "stdout",
          "text": [
            "[(1, {'p': [], 'l': 9223372036854775807, 'd': 9223372036854775807}), (2, {'p': [], 'l': 9223372036854775807, 'd': 9223372036854775807}), (3, {'p': [], 'l': 9223372036854775807, 'd': 9223372036854775807}), (4, {'p': [], 'l': 9223372036854775807, 'd': 9223372036854775807}), (5, {'p': [], 'l': 9223372036854775807, 'd': 9223372036854775807}), (6, {'p': [], 'l': 9223372036854775807, 'd': 9223372036854775807})]\n",
            "[(1, 2, {'c': 2}), (1, 3, {'c': 4}), (2, 3, {'c': 1}), (2, 4, {'c': 7}), (3, 5, {'c': 3}), (4, 6, {'c': 1}), (5, 4, {'c': 2}), (5, 6, {'c': 5})]\n",
            "[1]\n",
            "edge is:  2\n",
            "cost is:  2\n",
            "edge is:  3\n",
            "cost is:  4\n"
          ]
        }
      ]
    },
    {
      "cell_type": "markdown",
      "source": [
        "###2. Review Hour Function to Paths Weight"
      ],
      "metadata": {
        "id": "7KAryyiEkB5M"
      }
    },
    {
      "cell_type": "code",
      "source": [
        "#Create list of weights for every path every hour: midnight(0-6), morning(6-12), afternoon(12-18), night(18,24)\n",
        "def review_hour(t):\n",
        "  if t <= 6:\n",
        "    return 1\n",
        "  elif t <= 12:\n",
        "    return 2\n",
        "  elif t <= 18:\n",
        "    return 1.5\n",
        "  else:\n",
        "    return 1.25   "
      ],
      "metadata": {
        "id": "rbWZpEjKUMqA"
      },
      "execution_count": 36,
      "outputs": []
    },
    {
      "cell_type": "markdown",
      "source": [
        "###3. Dijkstra"
      ],
      "metadata": {
        "id": "Jbm2nji2kHeA"
      }
    },
    {
      "cell_type": "code",
      "source": [
        "def dijkstra(graph, t0, s): #return dv = shortest path\n",
        "  #Begin for source node\n",
        "  G.nodes[s][\"l\"] = t0\n",
        "  G.nodes[s][\"d\"] = 0\n",
        "  visited = []\n",
        "  temp = s\n",
        "  for i in range(len(G.nodes)-1): #loop for every node\n",
        "    print(\"actual node\", temp)\n",
        "    if temp not in visited:\n",
        "      visited.append(temp)\n",
        "      min_heap = []\n",
        "      for neighbor in G[temp]: #loop for every neighbor\n",
        "        print(\"neighbor: \", neighbor)\n",
        "        if neighbor not in visited:\n",
        "          print(\"weight factor:\", review_hour(graph.nodes[temp][\"l\"]))\n",
        "          cost = graph.nodes[temp][\"d\"]+graph.edges[temp,neighbor,0][\"c\"]*review_hour(graph.nodes[temp][\"l\"])\n",
        "          print(\"Cost is:\", cost)\n",
        "          if cost < graph.nodes[neighbor][\"d\"]:\n",
        "            graph.nodes[neighbor][\"d\"] = cost\n",
        "            print(\"actual cost:\", graph.nodes[neighbor][\"d\"])\n",
        "            graph.nodes[neighbor][\"l\"] = graph.nodes[temp][\"l\"] + cost\n",
        "            graph.nodes[neighbor][\"p\"] = graph.nodes[temp][\"p\"] + list(temp) #TODO Fix it\n",
        "            #graph.nodes[neighbor][\"p\"].append(temp)\n",
        "          heappush(min_heap,(graph.nodes[neighbor][\"d\"],neighbor))\n",
        "      heapify(min_heap)\n",
        "      print(\"min heap:\" ,min_heap)\n",
        "      temp = min_heap[0][1]\n",
        "\n",
        "\n",
        "  #       graph.nodes[neighbor][\"d\"] = graph.edges[s,edge,0][\"c\"]*review_hour(graph.nodes[s][\"l\"])\n",
        "  #       G.nodes[neighbor][\"l\"] = graph.nodes[s][\"l\"] + graph.edges[s,edge,0][\"c\"]*review_hour(graph.nodes[s][\"l\"])\n",
        "  # visited.append(s)\n",
        "\n",
        "dijkstra(G,0,1)\n",
        "print(G.nodes(data=True))"
      ],
      "metadata": {
        "colab": {
          "base_uri": "https://localhost:8080/"
        },
        "id": "u2-d_8l7jboO",
        "outputId": "a29250bc-1da9-498a-8c8c-dc448abeafe1"
      },
      "execution_count": 75,
      "outputs": [
        {
          "output_type": "stream",
          "name": "stdout",
          "text": [
            "actual node 1\n",
            "neighbor:  2\n",
            "weight factor: 1\n",
            "Cost is: 2\n",
            "neighbor:  3\n",
            "weight factor: 1\n",
            "Cost is: 4\n",
            "min heap: [(2, 2), (3, 3)]\n",
            "actual node 2\n",
            "neighbor:  3\n",
            "weight factor: 1\n",
            "Cost is: 3\n",
            "neighbor:  4\n",
            "weight factor: 1\n",
            "Cost is: 9\n",
            "min heap: [(3, 3), (9, 4)]\n",
            "actual node 3\n",
            "neighbor:  5\n",
            "weight factor: 1\n",
            "Cost is: 6\n",
            "min heap: [(6, 5)]\n",
            "actual node 5\n",
            "neighbor:  4\n",
            "weight factor: 2\n",
            "Cost is: 10\n",
            "neighbor:  6\n",
            "weight factor: 2\n",
            "Cost is: 16\n",
            "min heap: [(9, 4), (11, 6)]\n",
            "actual node 4\n",
            "neighbor:  6\n",
            "weight factor: 2\n",
            "Cost is: 11\n",
            "min heap: [(11, 6)]\n",
            "[(1, {'p': [1, 1, 1, 2, 2, 3, 5, 4], 'l': 0, 'd': 0}), (2, {'p': [1, 1, 1, 2, 2, 3, 5, 4], 'l': 2, 'd': 2}), (3, {'p': [1, 1, 1, 2, 2, 3, 5, 4], 'l': 5, 'd': 3}), (4, {'p': [1, 1, 1, 2, 2, 3, 5, 4], 'l': 11, 'd': 9}), (5, {'p': [1, 1, 1, 2, 2, 3, 5, 4], 'l': 11, 'd': 6}), (6, {'p': [1, 1, 1, 2, 2, 3, 5, 4], 'l': 22, 'd': 11})]\n"
          ]
        }
      ]
    },
    {
      "cell_type": "code",
      "execution_count": null,
      "metadata": {
        "colab": {
          "base_uri": "https://localhost:8080/"
        },
        "id": "seYwitHgR_pf",
        "outputId": "4520bef7-f696-4899-a538-d02416123a04"
      },
      "outputs": [
        {
          "output_type": "stream",
          "name": "stdout",
          "text": [
            "Vertex \tDistance from Source\n",
            "0 \t 0\n",
            "1 \t 4\n",
            "2 \t 12\n",
            "3 \t 19\n",
            "4 \t 21\n",
            "5 \t 11\n",
            "6 \t 9\n",
            "7 \t 8\n",
            "8 \t 14\n"
          ]
        }
      ],
      "source": [
        "# Python program for Dijkstra's single\n",
        "# source shortest path algorithm. The program is\n",
        "# for adjacency matrix representation of the graph\n",
        " \n",
        "# Library for INT_MAX\n",
        "import sys\n",
        " \n",
        "class Graph():\n",
        " \n",
        "    def __init__(self, vertices):\n",
        "        self.V = vertices\n",
        "        self.graph = [[0 for column in range(vertices)]\n",
        "                    for row in range(vertices)]\n",
        " \n",
        "    def printSolution(self, dist):\n",
        "        print(\"Vertex \\tDistance from Source\")\n",
        "        for node in range(self.V):\n",
        "            print(node, \"\\t\", dist[node])\n",
        " \n",
        "    # A utility function to find the vertex with\n",
        "    # minimum distance value, from the set of vertices\n",
        "    # not yet included in shortest path tree\n",
        "    def minDistance(self, dist, sptSet):\n",
        " \n",
        "        # Initialize minimum distance for next node\n",
        "        min = sys.maxsize\n",
        " \n",
        "        # Search not nearest vertex not in the\n",
        "        # shortest path tree\n",
        "        for u in range(self.V):\n",
        "            if dist[u] < min and sptSet[u] == False:\n",
        "                min = dist[u]\n",
        "                min_index = u\n",
        " \n",
        "        return min_index\n",
        " \n",
        "    # Function that implements Dijkstra's single source\n",
        "    # shortest path algorithm for a graph represented\n",
        "    # using adjacency matrix representation\n",
        "    def dijkstra(self, src):\n",
        " \n",
        "        dist = [sys.maxsize] * self.V\n",
        "        dist[src] = 0\n",
        "        sptSet = [False] * self.V\n",
        " \n",
        "        for cout in range(self.V):\n",
        " \n",
        "            # Pick the minimum distance vertex from\n",
        "            # the set of vertices not yet processed.\n",
        "            # x is always equal to src in first iteration\n",
        "            x = self.minDistance(dist, sptSet)\n",
        " \n",
        "            # Put the minimum distance vertex in the\n",
        "            # shortest path tree\n",
        "            sptSet[x] = True\n",
        " \n",
        "            # Update dist value of the adjacent vertices\n",
        "            # of the picked vertex only if the current\n",
        "            # distance is greater than new distance and\n",
        "            # the vertex in not in the shortest path tree\n",
        "            for y in range(self.V):\n",
        "                if self.graph[x][y] > 0 and sptSet[y] == False and \\\n",
        "                dist[y] > dist[x] + self.graph[x][y]:\n",
        "                        dist[y] = dist[x] + self.graph[x][y]\n",
        " \n",
        "        self.printSolution(dist)\n",
        " \n",
        "# Driver program\n",
        "g = Graph(9)\n",
        "g.graph = [[0, 4, 0, 0, 0, 0, 0, 8, 0],\n",
        "        [4, 0, 8, 0, 0, 0, 0, 11, 0],\n",
        "        [0, 8, 0, 7, 0, 4, 0, 0, 2],\n",
        "        [0, 0, 7, 0, 9, 14, 0, 0, 0],\n",
        "        [0, 0, 0, 9, 0, 10, 0, 0, 0],\n",
        "        [0, 0, 4, 14, 10, 0, 2, 0, 0],\n",
        "        [0, 0, 0, 0, 0, 2, 0, 1, 6],\n",
        "        [8, 11, 0, 0, 0, 0, 1, 0, 7],\n",
        "        [0, 0, 2, 0, 0, 0, 6, 7, 0]\n",
        "        ];\n",
        " \n",
        "g.dijkstra(0);"
      ]
    },
    {
      "cell_type": "code",
      "source": [
        ""
      ],
      "metadata": {
        "id": "tJ4TBqTMSmAv"
      },
      "execution_count": null,
      "outputs": []
    }
  ]
}