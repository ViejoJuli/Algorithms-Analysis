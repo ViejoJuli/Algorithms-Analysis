{
  "nbformat": 4,
  "nbformat_minor": 0,
  "metadata": {
    "colab": {
      "name": "new_algorithm.ipynb",
      "provenance": [],
      "collapsed_sections": [],
      "authorship_tag": "ABX9TyNvEB+AjUYZEDGYKv44d/QI",
      "include_colab_link": true
    },
    "kernelspec": {
      "name": "python3",
      "display_name": "Python 3"
    },
    "language_info": {
      "name": "python"
    }
  },
  "cells": [
    {
      "cell_type": "markdown",
      "metadata": {
        "id": "view-in-github",
        "colab_type": "text"
      },
      "source": [
        "<a href=\"https://colab.research.google.com/github/ViejoJuli/Algorithms-Analysis/blob/master/new_algorithm.ipynb\" target=\"_parent\"><img src=\"https://colab.research.google.com/assets/colab-badge.svg\" alt=\"Open In Colab\"/></a>"
      ]
    },
    {
      "cell_type": "code",
      "source": [
        "#New implementation\n",
        "#Create Graph\n",
        "import networkx as nx\n",
        "G = nx.MultiDiGraph()\n",
        "G.add_nodes_from (range(1,7), predecessor=\"\", successors=[])\n",
        "keys = G.add_edges_from ([(1,2,{\"time\":2}), (1,3,{\"time\":4}), (2,3,{\"time\":1}), (2,4,{\"time\":7}), (3,5,{\"time\":3}), (5,4,{\"time\":2}),\n",
        "                          (5,6,{\"time\":5}), (4,6,{\"time\":1})]) #(v, u, dictionary with characteristics)\n",
        "print(G.nodes(data=True))\n",
        "print(G.edges)"
      ],
      "metadata": {
        "colab": {
          "base_uri": "https://localhost:8080/"
        },
        "id": "z4AYOj5CT4D0",
        "outputId": "229936e8-f8ec-40ef-b71c-be5b4b97cf0d"
      },
      "execution_count": 2,
      "outputs": [
        {
          "output_type": "stream",
          "name": "stdout",
          "text": [
            "[(1, {'successors': [], 'predecessor': ''}), (2, {'successors': [], 'predecessor': ''}), (3, {'successors': [], 'predecessor': ''}), (4, {'successors': [], 'predecessor': ''}), (5, {'successors': [], 'predecessor': ''}), (6, {'successors': [], 'predecessor': ''})]\n",
            "[(1, 2, 0), (1, 3, 0), (2, 3, 0), (2, 4, 0), (3, 5, 0), (4, 6, 0), (5, 4, 0), (5, 6, 0)]\n"
          ]
        }
      ]
    },
    {
      "cell_type": "code",
      "source": [
        "#Create list of probabilites for every path every hour\n"
      ],
      "metadata": {
        "id": "rbWZpEjKUMqA"
      },
      "execution_count": null,
      "outputs": []
    },
    {
      "cell_type": "code",
      "execution_count": 1,
      "metadata": {
        "colab": {
          "base_uri": "https://localhost:8080/"
        },
        "id": "seYwitHgR_pf",
        "outputId": "4520bef7-f696-4899-a538-d02416123a04"
      },
      "outputs": [
        {
          "output_type": "stream",
          "name": "stdout",
          "text": [
            "Vertex \tDistance from Source\n",
            "0 \t 0\n",
            "1 \t 4\n",
            "2 \t 12\n",
            "3 \t 19\n",
            "4 \t 21\n",
            "5 \t 11\n",
            "6 \t 9\n",
            "7 \t 8\n",
            "8 \t 14\n"
          ]
        }
      ],
      "source": [
        "# Python program for Dijkstra's single\n",
        "# source shortest path algorithm. The program is\n",
        "# for adjacency matrix representation of the graph\n",
        " \n",
        "# Library for INT_MAX\n",
        "import sys\n",
        " \n",
        "class Graph():\n",
        " \n",
        "    def __init__(self, vertices):\n",
        "        self.V = vertices\n",
        "        self.graph = [[0 for column in range(vertices)]\n",
        "                    for row in range(vertices)]\n",
        " \n",
        "    def printSolution(self, dist):\n",
        "        print(\"Vertex \\tDistance from Source\")\n",
        "        for node in range(self.V):\n",
        "            print(node, \"\\t\", dist[node])\n",
        " \n",
        "    # A utility function to find the vertex with\n",
        "    # minimum distance value, from the set of vertices\n",
        "    # not yet included in shortest path tree\n",
        "    def minDistance(self, dist, sptSet):\n",
        " \n",
        "        # Initialize minimum distance for next node\n",
        "        min = sys.maxsize\n",
        " \n",
        "        # Search not nearest vertex not in the\n",
        "        # shortest path tree\n",
        "        for u in range(self.V):\n",
        "            if dist[u] < min and sptSet[u] == False:\n",
        "                min = dist[u]\n",
        "                min_index = u\n",
        " \n",
        "        return min_index\n",
        " \n",
        "    # Function that implements Dijkstra's single source\n",
        "    # shortest path algorithm for a graph represented\n",
        "    # using adjacency matrix representation\n",
        "    def dijkstra(self, src):\n",
        " \n",
        "        dist = [sys.maxsize] * self.V\n",
        "        dist[src] = 0\n",
        "        sptSet = [False] * self.V\n",
        " \n",
        "        for cout in range(self.V):\n",
        " \n",
        "            # Pick the minimum distance vertex from\n",
        "            # the set of vertices not yet processed.\n",
        "            # x is always equal to src in first iteration\n",
        "            x = self.minDistance(dist, sptSet)\n",
        " \n",
        "            # Put the minimum distance vertex in the\n",
        "            # shortest path tree\n",
        "            sptSet[x] = True\n",
        " \n",
        "            # Update dist value of the adjacent vertices\n",
        "            # of the picked vertex only if the current\n",
        "            # distance is greater than new distance and\n",
        "            # the vertex in not in the shortest path tree\n",
        "            for y in range(self.V):\n",
        "                if self.graph[x][y] > 0 and sptSet[y] == False and \\\n",
        "                dist[y] > dist[x] + self.graph[x][y]:\n",
        "                        dist[y] = dist[x] + self.graph[x][y]\n",
        " \n",
        "        self.printSolution(dist)\n",
        " \n",
        "# Driver program\n",
        "g = Graph(9)\n",
        "g.graph = [[0, 4, 0, 0, 0, 0, 0, 8, 0],\n",
        "        [4, 0, 8, 0, 0, 0, 0, 11, 0],\n",
        "        [0, 8, 0, 7, 0, 4, 0, 0, 2],\n",
        "        [0, 0, 7, 0, 9, 14, 0, 0, 0],\n",
        "        [0, 0, 0, 9, 0, 10, 0, 0, 0],\n",
        "        [0, 0, 4, 14, 10, 0, 2, 0, 0],\n",
        "        [0, 0, 0, 0, 0, 2, 0, 1, 6],\n",
        "        [8, 11, 0, 0, 0, 0, 1, 0, 7],\n",
        "        [0, 0, 2, 0, 0, 0, 6, 7, 0]\n",
        "        ];\n",
        " \n",
        "g.dijkstra(0);"
      ]
    },
    {
      "cell_type": "code",
      "source": [
        ""
      ],
      "metadata": {
        "id": "tJ4TBqTMSmAv"
      },
      "execution_count": null,
      "outputs": []
    }
  ]
}